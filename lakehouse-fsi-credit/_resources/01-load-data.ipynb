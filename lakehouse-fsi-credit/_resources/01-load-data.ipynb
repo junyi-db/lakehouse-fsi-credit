{
 "cells": [
  {
   "cell_type": "code",
   "execution_count": 0,
   "metadata": {
    "application/vnd.databricks.v1+cell": {
     "cellMetadata": {},
     "inputWidgets": {},
     "nuid": "fdb807c1-1200-4055-9115-3198fca8c18c",
     "showTitle": false,
     "tableResultSettingsMap": {},
     "title": ""
    }
   },
   "outputs": [],
   "source": [
    "dbutils.widgets.dropdown(\"reset_all_data\", \"false\", [\"true\", \"false\"], \"Reset all data\")\n",
    "reset_all_data = dbutils.widgets.get(\"reset_all_data\") == \"true\""
   ]
  },
  {
   "cell_type": "code",
   "execution_count": 0,
   "metadata": {
    "application/vnd.databricks.v1+cell": {
     "cellMetadata": {},
     "inputWidgets": {},
     "nuid": "66cc6845-c6da-4e5d-ba18-f87338124653",
     "showTitle": false,
     "tableResultSettingsMap": {},
     "title": ""
    },
    "jupyter": {
     "outputs_hidden": true
    }
   },
   "outputs": [],
   "source": [
    "%run ../config"
   ]
  },
  {
   "cell_type": "code",
   "execution_count": 0,
   "metadata": {
    "application/vnd.databricks.v1+cell": {
     "cellMetadata": {},
     "inputWidgets": {},
     "nuid": "a2068eae-0ae1-4767-845e-d0dcb01aaecb",
     "showTitle": false,
     "tableResultSettingsMap": {},
     "title": ""
    },
    "jupyter": {
     "outputs_hidden": true
    }
   },
   "outputs": [],
   "source": [
    "%run ./00-global-setup-v2"
   ]
  },
  {
   "cell_type": "code",
   "execution_count": 0,
   "metadata": {
    "application/vnd.databricks.v1+cell": {
     "cellMetadata": {},
     "inputWidgets": {},
     "nuid": "a01f9b62-5dd5-4c6d-8f0d-1d29ce96cfdb",
     "showTitle": false,
     "tableResultSettingsMap": {},
     "title": ""
    }
   },
   "outputs": [],
   "source": [
    "DBDemos.setup_schema(catalog, db, reset_all_data, volume_name)\n",
    "folder = f\"/Volumes/{catalog}/{db}/{volume_name}\"\n",
    "\n",
    "data_missing = DBDemos.is_any_folder_empty([folder+\"/credit_bureau\", folder+\"/internalbanking/account\", folder+\"/fund_trans\", folder+\"/telco\"])"
   ]
  },
  {
   "cell_type": "code",
   "execution_count": 0,
   "metadata": {
    "application/vnd.databricks.v1+cell": {
     "cellMetadata": {},
     "inputWidgets": {},
     "nuid": "a1404ba7-828f-480b-9a57-c4a8a8176441",
     "showTitle": false,
     "tableResultSettingsMap": {},
     "title": ""
    }
   },
   "outputs": [],
   "source": [
    "import os\n",
    "import requests\n",
    "import timeit\n",
    "import time\n",
    "\n",
    "if reset_all_data or data_missing:\n",
    "  if reset_all_data:\n",
    "    assert len(folder) > 15 and folder.startswith(\"/Volumes/\")\n",
    "    dbutils.fs.rm(folder, True)\n",
    "  try:\n",
    "    #credit_bureau\n",
    "    DBDemos.download_file_from_git(folder+'/credit_bureau', \"databricks-demos\", \"dbdemos-dataset\", \"/fsi/credit-decisioning/creditbureau\")\n",
    "    spark.read.csv(folder+'/credit_bureau/creditbureau.csv', header=True, inferSchema=True).write.format('json').option('header', 'true').mode('overwrite').save(folder+'/credit_bureau')   \n",
    "    #account\n",
    "    DBDemos.download_file_from_git(folder+'/internalbanking', \"databricks-demos\", \"dbdemos-dataset\", \"/fsi/credit-decisioning/internalbanking\")\n",
    "    spark.read.csv(folder+'/internalbanking/accounts.csv', header=True, inferSchema=True).write.format('csv').option('header', 'true').mode('overwrite').save(folder+'/internalbanking/account')\n",
    "    spark.read.csv(folder+'/internalbanking/customer.csv', header=True, inferSchema=True).write.format('csv').option('header', 'true').mode('overwrite').save(folder+'/internalbanking/customer')\n",
    "    spark.read.csv(folder+'/internalbanking/relationship.csv', header=True, inferSchema=True).write.format('csv').option('header', 'true').mode('overwrite').save(folder+'/internalbanking/relationship')\n",
    "    #fund_trans\n",
    "    DBDemos.download_file_from_git(folder+'/fund_trans', \"databricks-demos\", \"dbdemos-dataset\", \"/fsi/credit-decisioning/kafka/fund_trans/incoming-data-json-small\")\n",
    "    #telco\n",
    "    DBDemos.download_file_from_git(folder+'/telco', \"databricks-demos\", \"dbdemos-dataset\", \"/fsi/credit-decisioning/telcodata\")\n",
    "  except Exception as e: \n",
    "    print(f\"Error trying to download the file from the repo: {str(e)}.\")    "
   ]
  },
  {
   "cell_type": "code",
   "execution_count": 0,
   "metadata": {
    "application/vnd.databricks.v1+cell": {
     "cellMetadata": {},
     "inputWidgets": {},
     "nuid": "9184c903-e78c-4edc-882c-042eec7d1fd0",
     "showTitle": false,
     "tableResultSettingsMap": {},
     "title": ""
    }
   },
   "outputs": [],
   "source": [
    "def save_features_def():\n",
    "    features = \"\"\"feature,definition\n",
    "    sent_amt_avg_6m,Outgoing average transaction amount in last 6 months\n",
    "    ratio_txn_amt_3m_12m,Ratio of total transaction amount between last 3 months and 12 months\n",
    "    ratio_txn_amt_6m_12m,Ratio of total transaction amount between last 6 months and 12 months\n",
    "    sent_amt_avg_12m,Outgoing average transaction amount in last 12 months\n",
    "    dist_payer_cnt_12m,Distinct payer count in last 12 months\n",
    "    tot_rel_bal,Total relationship balance\n",
    "    revenue_tot,Total revenue\n",
    "    rcvd_txn_amt_3m,Incoming transaction amount in last 3 months\n",
    "    rcvd_amt_avg_3m,Incoming average transaction amount in last 3 months\n",
    "    dist_payer_cnt_6m,Distinct payer count in last 6 months\n",
    "    rcvd_txn_cnt_6m,Incoming transaction count in last 6 months\n",
    "    tot_txn_amt_6m,Total transaction amount in last 6 months\n",
    "    tot_txn_amt_3m,Total transaction amount in last 3 months\n",
    "    balance_usd,Account balance in USD\n",
    "    available_balance_usd,Available balance in USD\n",
    "    sent_txn_amt_3m,Outgoing transaction amount in last 3 months\n",
    "    sent_amt_avg_3m,Outgoing average transaction amount in last 3 months\n",
    "    dist_payer_cnt_3m,Distinct payer count in last 3 months\n",
    "    rcvd_txn_cnt_3m,Incoming transaction count in last 3 months\n",
    "    overdraft_number,Overdraft count\n",
    "    total_deposits_number,Total deposit count\n",
    "    avg_balance,Customer account balance\n",
    "    num_accs,Account count\n",
    "    sent_txn_cnt_6m,Outgoing transaction count in last 6 months\n",
    "    sent_txn_amt_6m,Outgoing transaction amount in last 6 months\n",
    "    total_UT,Total Unit Trusts amount\n",
    "    customer_revenue,Customer revenue\n",
    "    education,Education level\n",
    "    tenure_months,Banking tenure\n",
    "    product_cnt,Product count\n",
    "    avg_phone_bill_amt_lst12mo,Telco - Average phone bill amount in last 12 months\n",
    "    dist_payee_cnt_12m,Distinct payee count in last 12 months\n",
    "    rcvd_amt_avg_12m,Incoming average transaction amount in last 12 months\n",
    "    dist_payee_cnt_6m,Distinct payee count in last 6 months\n",
    "    marital_status,Marital status\n",
    "    months_current_address,Months in current home address\n",
    "    revenue_12m,Last 12 months revenue\n",
    "    income_annual,Annual income\n",
    "    tot_txn_cnt_3m,Total transaction count in last 3 months\n",
    "    tot_txn_amt_12m,Total transaction amount in last 12 months\n",
    "    tot_txn_cnt_12m,Total transaction count in last 12 months\n",
    "    tot_txn_cnt_6m,Total transaction count in last 6 months\n",
    "    total_deposits_amount,Total deposit amount\n",
    "    total_equity_amount,Total equity amount\n",
    "    tot_assets,Total assets\n",
    "    overdraft_balance_amount,Overdraft balance amount\n",
    "    pct_increase_annual_number_of_delays_last_3_year,Telco - Percentage increase in annual number of payment delays in last 3 years\n",
    "    phone_bill_amt,Telco - Last phone bill amount\n",
    "    dist_payee_cnt_3m,Distinct payee count in last 3 months\n",
    "    sent_txn_cnt_3m,Outgoing transaction count in last 3 months\n",
    "    rcvd_txn_cnt_12m,Incoming transaction count in last 12 months\n",
    "    rcvd_txn_amt_12m,Incoming transaction amount in last 12 months\n",
    "    sent_txn_cnt_12m,Outgoing transaction count in last 12 months\n",
    "    sent_txn_amt_12m,Outgoing transaction amount in last 12 months\n",
    "    is_pre_paid,Telco - Whether prepaid package or not\n",
    "    number_payment_delays_last12mo,Telco - Number of payment delays in last 12 months\n",
    "    rcvd_txn_amt_6m,Incoming transaction amount in last 6 months\n",
    "    rcvd_amt_avg_6m,Incoming average transaction amount in last 6 months\n",
    "    months_employment,Months in employment\n",
    "    is_resident,Whether the customer is a resident\n",
    "    age,Customer age\"\"\"\n",
    "\n",
    "\n",
    "    from io import StringIO\n",
    "    import pandas as pd\n",
    "    # Convert String into StringIO\n",
    "    df = pd.read_csv(StringIO(features), sep=\",\", header=0)\n",
    "    spark.createDataFrame(df).write.mode('overwrite').saveAsTable('feature_definitions')\n",
    "\n",
    "if reset_all_data or not spark.catalog.tableExists('feature_definitions'):\n",
    "    save_features_def()"
   ]
  }
 ],
 "metadata": {
  "application/vnd.databricks.v1+notebook": {
   "computePreferences": null,
   "dashboards": [],
   "environmentMetadata": {
    "environment_version": "2"
   },
   "inputWidgetPreferences": null,
   "language": "python",
   "notebookMetadata": {
    "pythonIndentUnit": 4
   },
   "notebookName": "01-load-data",
   "widgets": {}
  },
  "language_info": {
   "name": "python"
  }
 },
 "nbformat": 4,
 "nbformat_minor": 0
}
