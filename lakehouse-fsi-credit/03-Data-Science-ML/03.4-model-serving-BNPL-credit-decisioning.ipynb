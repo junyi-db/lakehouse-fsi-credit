{
 "cells": [
  {
   "cell_type": "markdown",
   "metadata": {
    "application/vnd.databricks.v1+cell": {
     "cellMetadata": {
      "byteLimit": 2048000,
      "rowLimit": 10000
     },
     "inputWidgets": {},
     "isMarkdownSandbox": true,
     "nuid": "e976e95e-2b2d-4a13-a98a-e514395586ac",
     "showTitle": false,
     "tableResultSettingsMap": {},
     "title": ""
    }
   },
   "source": [
    "\n",
    "# Buy Now, Pay Later (BNPL)\n",
    "\n",
    "<img src=\"https://raw.githubusercontent.com/databricks-demos/dbdemos-resources/main/images/fsi/credit_decisioning/fsi-credit-decisioning-ml-3.png\" style=\"float: right\" width=\"800px\">\n",
    "\n",
    "\n",
    "### *\"Can we allow a user without sufficient balance in their account to complete the current (debit or credit) transaction?\"*\n",
    "\n",
    "\n",
    "We will utilize our credit risk model (built in the previous steps) in real-time to answer this question.\n",
    "\n",
    "The payment system will be able to call our API in realtime and get a score within a few ms. \n",
    "\n",
    "With this information, we'll be able to offer our customer the choice to pay with a credit automatically, or refuse if the model believes the risk is too high and  will likely result in a payment default.\n",
    "\n",
    "\n",
    "These types of decisions are typically embedded in live Point Of Sales (stores, online shop). That is why we need real-time serving capabilities.\n",
    "\n",
    "\n",
    "<!-- Collect usage data (view). Remove it to disable collection. View README for more details.  -->\n",
    "<img width=\"1px\" src=\"https://ppxrzfxige.execute-api.us-west-2.amazonaws.com/v1/analytics?category=lakehouse&org_id=1444828305810485&notebook=%2F03-Data-Science-ML%2F03.4-model-serving-BNPL-credit-decisioning&demo_name=lakehouse-fsi-credit&event=VIEW&path=%2F_dbdemos%2Flakehouse%2Flakehouse-fsi-credit%2F03-Data-Science-ML%2F03.4-model-serving-BNPL-credit-decisioning&version=1&user_hash=7804490f0d3be4559d29a7b52959f461489c4ee5e35d4afc7b55f311360ac589\">"
   ]
  },
  {
   "cell_type": "markdown",
   "metadata": {
    "application/vnd.databricks.v1+cell": {
     "cellMetadata": {
      "byteLimit": 2048000,
      "rowLimit": 10000
     },
     "inputWidgets": {},
     "nuid": "b28be341-3450-4249-bff3-ea13c2b351f2",
     "showTitle": false,
     "tableResultSettingsMap": {},
     "title": ""
    }
   },
   "source": [
    "### A cluster has been created for this demo\n",
    "To run this demo, just select the cluster `dbdemos-lakehouse-fsi-credit-junyi_tiong` from the dropdown menu ([open cluster configuration](https://e2-demo-field-eng.cloud.databricks.com/#setting/clusters/0922-083237-e7fg83pu/configuration)). <br />\n",
    "*Note: If the cluster was deleted after 30 days, you can re-create it with `dbdemos.create_cluster('lakehouse-fsi-credit')` or re-install the demo: `dbdemos.install('lakehouse-fsi-credit')`*"
   ]
  },
  {
   "cell_type": "markdown",
   "metadata": {
    "application/vnd.databricks.v1+cell": {
     "cellMetadata": {
      "byteLimit": 2048000,
      "rowLimit": 10000
     },
     "inputWidgets": {},
     "nuid": "848b83f2-8dcc-4411-b5d9-42d9847c6644",
     "showTitle": false,
     "tableResultSettingsMap": {},
     "title": ""
    }
   },
   "source": [
    "# Deploying the Credit Scoring model for real-time serving\n",
    "\n",
    "\n",
    "Let's deploy our model behind a scalable API to evaluate credit-worthiness in real-time.\n",
    "\n",
    "## Databricks Model Serving\n",
    "\n",
    "Now that our model has been created with Databricks AutoML, we can easily flag it as Production Ready and turn on Databricks Model Serving.\n",
    "\n",
    "We'll be able to send HTTP Requests and get inference in real-time.\n",
    "\n",
    "Databricks Model Serving is fully serverless:\n",
    "\n",
    "* One-click deployment. Databricks will handle scalability, providing blazing fast inferences and startup time.\n",
    "* Scale down to zero as an option for best TCO (will shut down if the endpoint isn't used).\n",
    "* Built-in support for multiple models & version deployed.\n",
    "* A/B Testing and easy upgrade, routing traffic between each versions while measuring impact.\n",
    "* Built-in metrics & monitoring."
   ]
  },
  {
   "cell_type": "code",
   "execution_count": 0,
   "metadata": {
    "application/vnd.databricks.v1+cell": {
     "cellMetadata": {
      "byteLimit": 2048000,
      "rowLimit": 10000
     },
     "inputWidgets": {},
     "nuid": "963c8d25-082b-4d95-8483-ba1b49f2847e",
     "showTitle": false,
     "tableResultSettingsMap": {},
     "title": ""
    }
   },
   "outputs": [],
   "source": [
    "%pip install mlflow==2.19.0\n",
    "dbutils.library.restartPython()"
   ]
  },
  {
   "cell_type": "code",
   "execution_count": 0,
   "metadata": {
    "application/vnd.databricks.v1+cell": {
     "cellMetadata": {
      "byteLimit": 2048000,
      "rowLimit": 10000
     },
     "inputWidgets": {},
     "nuid": "be001cae-b3e9-4fbd-98ac-1eeb26bfe866",
     "showTitle": false,
     "tableResultSettingsMap": {},
     "title": ""
    },
    "jupyter": {
     "outputs_hidden": true
    }
   },
   "outputs": [],
   "source": [
    "%run ../_resources/00-setup $reset_all_data=false"
   ]
  },
  {
   "cell_type": "code",
   "execution_count": 0,
   "metadata": {
    "application/vnd.databricks.v1+cell": {
     "cellMetadata": {
      "byteLimit": 2048000,
      "rowLimit": 10000
     },
     "inputWidgets": {},
     "nuid": "fcae3aa4-3411-4a54-b842-be1cf4807f8e",
     "showTitle": true,
     "tableResultSettingsMap": {},
     "title": "Make sure our last model version is deployed in production in our registry"
    }
   },
   "outputs": [],
   "source": [
    "import mlflow\n",
    "model_name = \"dbdemos_fsi_credit_decisioning\"\n",
    "mlflow.set_registry_uri('databricks-uc')"
   ]
  },
  {
   "cell_type": "code",
   "execution_count": 0,
   "metadata": {
    "application/vnd.databricks.v1+cell": {
     "cellMetadata": {
      "byteLimit": 2048000,
      "rowLimit": 10000
     },
     "inputWidgets": {},
     "nuid": "77d21920-6c6b-4caf-ae8e-5ca873e13c25",
     "showTitle": false,
     "tableResultSettingsMap": {},
     "title": ""
    }
   },
   "outputs": [],
   "source": [
    "\n",
    "from databricks.sdk import WorkspaceClient\n",
    "from databricks.sdk.service.serving import ServedEntityInput, EndpointCoreConfigInput, AutoCaptureConfigInput\n",
    "\n",
    "model_name = f\"{catalog}.{db}.dbdemos_fsi_credit_decisioning\"\n",
    "serving_endpoint_name = \"dbdemos_fsi_credit_decisioning_endpoint\"\n",
    "w = WorkspaceClient()\n",
    "endpoint_config = EndpointCoreConfigInput(\n",
    "    name=serving_endpoint_name,\n",
    "    served_entities=[\n",
    "        ServedEntityInput(\n",
    "            entity_name=model_name,\n",
    "            entity_version=get_latest_model_version(model_name),\n",
    "            scale_to_zero_enabled=True,\n",
    "            workload_size=\"Small\"\n",
    "        )\n",
    "    ],\n",
    "    auto_capture_config = AutoCaptureConfigInput(catalog_name=catalog, schema_name=db, enabled=True, table_name_prefix=\"inference_table\" )\n",
    ")\n",
    "\n",
    "force_update = False #Set this to True to release a newer version (the demo won't update the endpoint to a newer model version by default)\n",
    "existing_endpoint = next((e for e in w.serving_endpoints.list() if e.name == serving_endpoint_name), None)\n",
    "if existing_endpoint == None:\n",
    "    print(f\"Creating the endpoint {serving_endpoint_name}, this will take a few minutes to package and deploy the endpoint...\")\n",
    "    w.serving_endpoints.create_and_wait(name=serving_endpoint_name, config=endpoint_config)\n",
    "else:\n",
    "  print(f\"endpoint {serving_endpoint_name} already exist...\")\n",
    "  if force_update:\n",
    "    w.serving_endpoints.update_config_and_wait(served_entities=endpoint_config.served_entities, name=serving_endpoint_name)\n",
    "    "
   ]
  },
  {
   "cell_type": "markdown",
   "metadata": {
    "application/vnd.databricks.v1+cell": {
     "cellMetadata": {
      "byteLimit": 2048000,
      "rowLimit": 10000
     },
     "inputWidgets": {},
     "nuid": "22794716-8cda-47aa-b9d7-8537393cdcb0",
     "showTitle": false,
     "tableResultSettingsMap": {},
     "title": ""
    }
   },
   "source": [
    "Our model endpoint was automatically created. \n",
    "\n",
    "Open the [endpoint UI](#mlflow/endpoints/dbdemos_fsi_credit_decisioning_endpoint) to explore your endpoint and use the UI to send queries.\n",
    "\n",
    "*Note that the first deployment will build your model image and take a few minutes. It'll then stop & start instantly.*"
   ]
  },
  {
   "cell_type": "markdown",
   "metadata": {
    "application/vnd.databricks.v1+cell": {
     "cellMetadata": {
      "byteLimit": 2048000,
      "rowLimit": 10000
     },
     "inputWidgets": {},
     "nuid": "d0f7a02f-bcb2-4052-b878-1eeaacfec21f",
     "showTitle": false,
     "tableResultSettingsMap": {},
     "title": ""
    }
   },
   "source": [
    "\n",
    "### Testing the model\n",
    "\n",
    "Now that the model is deployed, let's test it with information for a customer trying to temporarily increase their credit limits or obtain a micro-loan at the point-of-sale."
   ]
  },
  {
   "cell_type": "code",
   "execution_count": 0,
   "metadata": {
    "application/vnd.databricks.v1+cell": {
     "cellMetadata": {
      "byteLimit": 2048000,
      "rowLimit": 10000
     },
     "inputWidgets": {},
     "nuid": "54460b71-c354-49dd-aa23-79e663bc690b",
     "showTitle": false,
     "tableResultSettingsMap": {},
     "title": ""
    }
   },
   "outputs": [],
   "source": [
    "from mlflow.store.artifact.models_artifact_repo import ModelsArtifactRepository\n",
    "from mlflow.models.model import Model\n",
    "\n",
    "p = ModelsArtifactRepository(f\"models:/{model_name}@prod\").download_artifacts(\"\") \n",
    "dataset =  {\"dataframe_split\": Model.load(p).load_input_example(p).to_dict(orient='split')}"
   ]
  },
  {
   "cell_type": "code",
   "execution_count": 0,
   "metadata": {
    "application/vnd.databricks.v1+cell": {
     "cellMetadata": {
      "byteLimit": 2048000,
      "rowLimit": 10000
     },
     "inputWidgets": {},
     "nuid": "450cb897-53ac-4aca-a8dd-91c771ecfd89",
     "showTitle": false,
     "tableResultSettingsMap": {},
     "title": ""
    }
   },
   "outputs": [],
   "source": [
    "import mlflow\n",
    "from mlflow import deployments\n",
    "client = mlflow.deployments.get_deploy_client(\"databricks\")\n",
    "predictions = client.predict(endpoint=serving_endpoint_name, inputs=dataset)\n",
    "\n",
    "prediction_score = list(predictions[\"predictions\"])[0]\n",
    "print(\n",
    "    f\"The transaction will be approved. Score: {prediction_score}.\"\n",
    "    if prediction_score == 0\n",
    "    else f\"The transaction will not be approved. Score: {prediction_score}.\"\n",
    ")"
   ]
  },
  {
   "cell_type": "markdown",
   "metadata": {
    "application/vnd.databricks.v1+cell": {
     "cellMetadata": {
      "byteLimit": 2048000,
      "rowLimit": 10000
     },
     "inputWidgets": {},
     "isMarkdownSandbox": true,
     "nuid": "6f6115e7-69a5-47fb-b7ce-94d0473487fc",
     "showTitle": false,
     "tableResultSettingsMap": {},
     "title": ""
    }
   },
   "source": [
    "# Updating your model and monitoring its performance with A/B testing \n",
    "\n",
    "\n",
    "<img style=\"float: right;\" src=\"https://raw.githubusercontent.com/databricks-demos/dbdemos-resources/main/images/fsi/fraud-detection/model-serving-ab-testing.png\" width=\"850px\" />\n",
    "\n",
    "Databricks Model Serving let you easily deploy & test new versions of your model.\n",
    "\n",
    "You can dynamically reconfigure your endpoint to route a subset of your traffic to a newer version. In addition, you can leverage endpoint monitoring to understand your model behavior and track your A/B deployment.\n",
    "\n",
    "* Without making any production outage\n",
    "* Slowly routing requests to the new model\n",
    "* Supporting auto-scaling & potential bursts\n",
    "* Performing some A/B testing ensuring the new model is providing better outcomes\n",
    "* Monitorig our model outcome and technical metrics (CPU/load etc)\n",
    "\n",
    "Databricks makes this process super simple with Serverless Model Serving endpoint.\n",
    "\n",
    "\n",
    "<!-- Collect usage data (view). Remove it to disable collection. View README for more details.  -->\n",
    "<img width=\"1px\" src=\"https://ppxrzfxige.execute-api.us-west-2.amazonaws.com/v1/analytics?category=lakehouse&org_id=1444828305810485&notebook=%2F03-Data-Science-ML%2F03.4-model-serving-BNPL-credit-decisioning&demo_name=lakehouse-fsi-credit&event=VIEW&path=%2F_dbdemos%2Flakehouse%2Flakehouse-fsi-credit%2F03-Data-Science-ML%2F03.4-model-serving-BNPL-credit-decisioning&version=1&user_hash=7804490f0d3be4559d29a7b52959f461489c4ee5e35d4afc7b55f311360ac589\">"
   ]
  },
  {
   "cell_type": "markdown",
   "metadata": {
    "application/vnd.databricks.v1+cell": {
     "cellMetadata": {
      "byteLimit": 2048000,
      "rowLimit": 10000
     },
     "inputWidgets": {},
     "nuid": "5ea03537-20d8-4be8-aa7e-309ce35e8980",
     "showTitle": false,
     "tableResultSettingsMap": {},
     "title": ""
    }
   },
   "source": [
    "\n",
    "## Model monitoring and A/B testing analysis\n",
    "\n",
    "Because the Model Serving runs within our Lakehouse, Databricks will automatically save and track all our Model Endpoint results as a Delta Table.\n",
    "\n",
    "We can then easily plug a feedback loop to start analysing the revenue in $ each model is offering. \n",
    "\n",
    "All these metrics, including A/B testing validation (p-values etc) can then be pluged into a Model Monitoring Dashboard and alerts can be sent for errors, potentially triggering new model retraining or programatically updating the Endpoint routes to fallback to another model.\n",
    "\n",
    "\n",
    "<img src=\"https://raw.githubusercontent.com/databricks-demos/dbdemos-resources/main/images/fsi/fraud-detection/model-serving-monitoring.png\" width=\"1200px\" />"
   ]
  },
  {
   "cell_type": "markdown",
   "metadata": {
    "application/vnd.databricks.v1+cell": {
     "cellMetadata": {
      "byteLimit": 2048000,
      "rowLimit": 10000
     },
     "inputWidgets": {},
     "nuid": "788a536e-021b-491b-934a-0abb86f92e8f",
     "showTitle": false,
     "tableResultSettingsMap": {},
     "title": ""
    }
   },
   "source": [
    "\n",
    "## Next\n",
    "\n",
    "Making sure your model is fair towards customers of any demographics are extremely important parts of building production-ready ML models for FSI use cases. <br/>\n",
    "Explore your model with [03.5-Explainability-and-Fairness-credit-decisioning]($./03.5-Explainability-and-Fairness-credit-decisioning) on the Lakehouse.\n",
    "\n",
    "## Conclusion: the power of the Lakehouse\n",
    "\n",
    "In this demo, we've seen an end 2 end flow with the Lakehouse:\n",
    "\n",
    "- Data ingestion made simple with Delta Live Table\n",
    "- Leveraging Databricks warehouse to making credit decisions\n",
    "- Model Training with AutoML for citizen Data Scientist\n",
    "- Ability to tune our model for better results, improving our revenue\n",
    "- Ultimately, the ability to deploy and make explainable ML predictions, made possible with the full Lakehouse capabilities.\n",
    "\n",
    "[Go back to the introduction]($../00-Credit-Decisioning) or discover how to use Databricks Workflow to orchestrate everything together through the [05-Workflow-Orchestration-credit-decisioning]($../05-Workflow-Orchestration/05-Workflow-Orchestration-credit-decisioning)."
   ]
  },
  {
   "cell_type": "code",
   "execution_count": 0,
   "metadata": {
    "application/vnd.databricks.v1+cell": {
     "cellMetadata": {},
     "inputWidgets": {},
     "nuid": "cabe3c72-b231-46a9-a6d6-b86b0604a259",
     "showTitle": false,
     "tableResultSettingsMap": {},
     "title": ""
    }
   },
   "outputs": [],
   "source": [
    "print(\"Hello World\")"
   ]
  }
 ],
 "metadata": {
  "application/vnd.databricks.v1+notebook": {
   "computePreferences": null,
   "dashboards": [],
   "environmentMetadata": {
    "environment_version": "2"
   },
   "inputWidgetPreferences": null,
   "language": "python",
   "notebookMetadata": {
    "pythonIndentUnit": 2
   },
   "notebookName": "03.4-model-serving-BNPL-credit-decisioning",
   "widgets": {}
  },
  "language_info": {
   "name": "python"
  }
 },
 "nbformat": 4,
 "nbformat_minor": 0
}
