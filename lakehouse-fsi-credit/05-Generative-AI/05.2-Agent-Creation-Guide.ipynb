{
 "cells": [
  {
   "cell_type": "markdown",
   "metadata": {
    "application/vnd.databricks.v1+cell": {
     "cellMetadata": {},
     "inputWidgets": {},
     "nuid": "447c4901-b4ce-4b69-9a12-21c1d3483de1",
     "showTitle": false,
     "tableResultSettingsMap": {},
     "title": ""
    }
   },
   "source": [
    "# 🚀 Deploying Your AI Functions with Databricks AI Agents\n",
    "\n",
    "In this notebook, you'll learn how to take the functions you defined in your previous Databricks notebook and integrate them into a **Databricks AI Agent**. This will allow you to use them in applications, the Databricks Playground, or other contexts where AI-driven functionality is needed.\n",
    "\n",
    "We'll walk through the process step by step, with **GIFs** to guide you along the way. By the end, you'll have a working AI Agent powered by your own functions, ready to deploy and use. Let's get started!\n",
    "\n",
    "<!-- Collect usage data (view). Remove it to disable collection or disable tracker during installation. View README for more details.  -->\n",
    "<img width=\"1px\" src=\"https://ppxrzfxige.execute-api.us-west-2.amazonaws.com/v1/analytics?category=lakehouse&org_id=1444828305810485&notebook=%2F05-Generative-AI%2F05.2-Agent-Creation-Guide&demo_name=lakehouse-fsi-credit&event=VIEW&path=%2F_dbdemos%2Flakehouse%2Flakehouse-fsi-credit%2F05-Generative-AI%2F05.2-Agent-Creation-Guide&version=1&user_hash=7804490f0d3be4559d29a7b52959f461489c4ee5e35d4afc7b55f311360ac589\">"
   ]
  },
  {
   "cell_type": "markdown",
   "metadata": {
    "application/vnd.databricks.v1+cell": {
     "cellMetadata": {},
     "inputWidgets": {},
     "nuid": "cb2b88ac-b2c6-450b-9a1d-b6009021d4be",
     "showTitle": false,
     "tableResultSettingsMap": {},
     "title": ""
    }
   },
   "source": [
    "## Step 1: Prepare Your Workspace\n",
    "\n",
    "### Quick Setup Tips\n",
    "* 📌 Duplicate this browser window\n",
    "* 💡 Keep this guide open for reference\n",
    "* 🎯 Arrange windows side-by-side\n",
    "\n",
    "This simple preparation will make your journey much smoother! 😎"
   ]
  },
  {
   "cell_type": "markdown",
   "metadata": {
    "application/vnd.databricks.v1+cell": {
     "cellMetadata": {},
     "inputWidgets": {},
     "isMarkdownSandbox": true,
     "nuid": "d78204f5-9de7-44c6-8f5c-940cefe2097c",
     "showTitle": false,
     "tableResultSettingsMap": {},
     "title": ""
    }
   },
   "source": [
    "## Step 2: Access the Databricks Playground\n",
    "\n",
    "<hr>\n",
    "\n",
    "<div style=\"float: right; width: 70%;\">\n",
    "  <img \n",
    "    src=\"https://raw.githubusercontent.com/databricks-demos/dbdemos-resources/refs/heads/main/images/\\\n",
    "cross_demo_assets/AI_Agent_GIFs/AI_agent_open_playground.gif\" \n",
    "    alt=\"Opening the Playground\" \n",
    "    width=\"100%\"\n",
    "  >\n",
    "</div>\n",
    "\n",
    "### Location Guide\n",
    "\n",
    "Find the **Playground** under the **Machine Learning** section in your Databricks Workspace's left sidebar."
   ]
  },
  {
   "cell_type": "markdown",
   "metadata": {
    "application/vnd.databricks.v1+cell": {
     "cellMetadata": {},
     "inputWidgets": {},
     "isMarkdownSandbox": true,
     "nuid": "1cc52430-4082-4880-a06d-1a4782ea4807",
     "showTitle": false,
     "tableResultSettingsMap": {},
     "title": ""
    }
   },
   "source": [
    "## Step 3: Configure Your Agent Functions\n",
    "\n",
    "<hr>\n",
    "\n",
    "<div style=\"float: right; width: 70%;\">\n",
    "  <img \n",
    "    src=\"https://raw.githubusercontent.com/databricks-demos/dbdemos-resources/refs/heads/main/images/\\\n",
    "cross_demo_assets/AI_Agent_GIFs/AI_agent_function_selection.gif\" \n",
    "    alt=\"Function Selection\" \n",
    "    width=\"100%\"\n",
    "  >\n",
    "</div>\n",
    "\n",
    "### Location Guide\n",
    "\n",
    "Your functions are organized in Unity Catalog using this structure:\n",
    "\n",
    "#### Example Path:\n",
    "`my_catalog.my_schema.my_awesome_function`\n",
    "\n",
    "💡 Note: Replace the example names with your actual catalog and schema names."
   ]
  },
  {
   "cell_type": "markdown",
   "metadata": {
    "application/vnd.databricks.v1+cell": {
     "cellMetadata": {},
     "inputWidgets": {},
     "isMarkdownSandbox": true,
     "nuid": "b48d313d-c67d-4051-8daa-1e8e792c70d8",
     "showTitle": false,
     "tableResultSettingsMap": {},
     "title": ""
    }
   },
   "source": [
    "## Step 4: Export Your Agent\n",
    "\n",
    "<hr>\n",
    "\n",
    "<div style=\"float: right; width: 70%;\">\n",
    "  <img \n",
    "    src=\"https://raw.githubusercontent.com/databricks-demos/dbdemos-resources/refs/heads/main/images/\\\n",
    "cross_demo_assets/AI_Agent_GIFs/AI_agent_export_from_playground.gif\" \n",
    "    alt=\"Exporting Agent\" \n",
    "    width=\"100%\"\n",
    "  >\n",
    "</div>\n",
    "\n",
    "### Export Checklist\n",
    "* ✅ Verify all of the functions from 05.1-Agent-Functions-Creation (_or more that you may have added_) are **selected tools** in the Playground.\n",
    "* ✅ Click the \"_Export_\" button in the Playground\n",
    "* ✅ Save the exported notebooks to this directory (**\"YOUR_WORKSPACE_PATH/05-Generative-AI/\"**)"
   ]
  },
  {
   "cell_type": "markdown",
   "metadata": {
    "application/vnd.databricks.v1+cell": {
     "cellMetadata": {},
     "inputWidgets": {},
     "nuid": "e2bf63ff-d02f-48fe-878b-cf734a18db3a",
     "showTitle": false,
     "tableResultSettingsMap": {},
     "title": ""
    }
   },
   "source": [
    "## 🚀 Step 5: Deploy Your AI Agent\n",
    "\n",
    "### Final Steps\n",
    "1. Navigate to where your exported \"driver\" notebook is located.\n",
    "2. Follow that notebook's documentation and guide.\n",
    "3. Close this notebook. You may proceeed to using the \"driver\" and \"agent\" notebooks from here. \n",
    "\n"
   ]
  },
  {
   "cell_type": "markdown",
   "metadata": {
    "application/vnd.databricks.v1+cell": {
     "cellMetadata": {},
     "inputWidgets": {},
     "isMarkdownSandbox": true,
     "nuid": "2b583d06-f055-4964-8d2f-d81ad45b6dac",
     "showTitle": false,
     "tableResultSettingsMap": {},
     "title": ""
    }
   },
   "source": [
    "<div style=\"font-family: system-ui, sans-serif; line-height: 1.6;\">\n",
    "\n",
    "<h2 style=\"margin-bottom:0.5em;\">🚀 What's Next After You Finish This Notebook?</h2>\n",
    "\n",
    "<h3 style=\"margin-top:1em;\">🧠 AI Bricks: Smarter, Automated Agent Bricks</h3>\n",
    "\n",
    "<p>\n",
    "Databricks Agent Bricks is a revolutionary feature that lets you build and deploy enterprise-grade AI agents—fast. \n",
    "It auto-optimizes agents for your business data, supports multi-agent orchestration, generates synthetic test data, \n",
    "and ensures compliance with Unity Catalog.\n",
    "</p>\n",
    "\n",
    "<p>\n",
    "🔗 <a href=\"https://www.databricks.com/product/artificial-intelligence/agent-bricks\" target=\"_blank\">\n",
    "<strong>Read the Documentation</strong></a>\n",
    "</p>\n",
    "\n",
    "<p align=\"center\">\n",
    "  <img src=\"https://raw.githubusercontent.com/databricks-demos/dbdemos-resources/refs/heads/main/images/cross_demo_assets/AI_agent_bricks_selection.gif\" \n",
    "       alt=\"AI Agent Bricks Selection\" \n",
    "       style=\"border-radius: 12px; max-width: 80%; box-shadow: 0 4px 12px rgba(0,0,0,0.1);\"/>\n",
    "</p>\n",
    "\n",
    "<h4>💡 Why It Matters for Credit Decisioning</h4>\n",
    "<ul>\n",
    "  <li>✅ Automate document review and underwriting</li>\n",
    "  <li>✅ Improve fraud detection and compliance</li>\n",
    "  <li>✅ Easily scale smarter decision processes</li>\n",
    "</ul>\n",
    "\n",
    "<p>\n",
    "With Agent Bricks, you can upgrade your current workflows to fully autonomous, self-improving systems—right from Databricks.\n",
    "</p>\n",
    "\n",
    "</div>"
   ]
  },
  {
   "cell_type": "markdown",
   "metadata": {
    "application/vnd.databricks.v1+cell": {
     "cellMetadata": {},
     "inputWidgets": {},
     "nuid": "2bafee7b-ae07-48a1-a764-a9b5cdaa4ca6",
     "showTitle": false,
     "tableResultSettingsMap": {},
     "title": ""
    }
   },
   "source": [
    "Interested in finishing up this demo? Check out [in the orchestration notebook]($../06-Workflow-orchestration/06-Workflow-orchestration-fsi-fraud)"
   ]
  }
 ],
 "metadata": {
  "application/vnd.databricks.v1+notebook": {
   "computePreferences": null,
   "dashboards": [],
   "environmentMetadata": {
    "environment_version": "2"
   },
   "inputWidgetPreferences": null,
   "language": "python",
   "notebookMetadata": {
    "pythonIndentUnit": 2
   },
   "notebookName": "05.2-Agent-Creation-Guide",
   "widgets": {}
  },
  "language_info": {
   "name": "python"
  }
 },
 "nbformat": 4,
 "nbformat_minor": 0
}
