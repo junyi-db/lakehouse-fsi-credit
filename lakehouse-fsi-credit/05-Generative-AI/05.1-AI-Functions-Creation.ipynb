{
 "cells": [
  {
   "cell_type": "markdown",
   "metadata": {
    "application/vnd.databricks.v1+cell": {
     "cellMetadata": {
      "byteLimit": 2048000,
      "rowLimit": 10000
     },
     "inputWidgets": {},
     "isMarkdownSandbox": true,
     "nuid": "d7240f24-8e0d-4c5c-89da-11c8b3abcf51",
     "showTitle": false,
     "tableResultSettingsMap": {},
     "title": ""
    }
   },
   "source": [
    "# 🔍 GenAI-Powered Credit Decisioning in Modern Banking\n",
    "\n",
    "The financial services industry is undergoing a fundamental transformation as banks leverage Generative AI to revolutionize credit decisioning processes. Traditional systems based on static rules and manual reviews are being replaced by intelligent automation that delivers unprecedented speed, accuracy, and transparency. Modern banks using AI underwriting report 50-75% reductions in time-to-decision while improving risk assessment and expanding access to credit for underserved populations.\n",
    "\n",
    "<div style=\"background: #f7f7f7; border-left: 5px solid #ff5f46; padding: 20px; margin: 20px 0; font-size: 18px;\"> \"By using machine learning models, financial institutions can accurately predict the likelihood of a borrower defaulting on a loan. This predictive capability is grounded in real data, minimizing guesswork and speculation...AI algorithms process credit applications much quicker than human analysts, slashing decision times and enhancing customer satisfaction.\" <br> <span style=\"font-size:16px;\">— nCino, The Revolution of AI Credit Decisioning in Banking (2024)</span> </div> <div style=\"background: #f7f7f7; border-left: 5px solid #21b86b; padding: 20px; margin: 20px 0; font-size: 18px;\"> \"With the Databricks Data Intelligence Platform for Financial Services, Discovery Bank accelerates data analytics and AI to drive business value, streamline governance and automate complex tasks. Our joint efforts demonstrate how data can drive transformation and add value to society.\" <br> <span style=\"font-size:16px;\">— Dael Williamson, Field CTO, Databricks (2024)</span> </div>\n",
    "\n",
    "<img src=\"https://raw.githubusercontent.com/databricks-demos/dbdemos-resources/refs/heads/main/images/liza.png\" style=\"width: 100px; vertical-align: middle; margin-right: 10px; float: left;\" />\n",
    "<br>\n",
    "Liza, a Data Engineer, is using Databricks and generative AI to modernize credit decisioning. Her workflow:\n",
    "\n",
    "<div style=\"background: #e0f7fa; border-left: 5px solid #00796b; padding-left: 10px; margin: 0 0; margin-left: 120px\">\n",
    "  <ol style=\"text-align: left;\">\n",
    "    <li>Fetch customer credit information with AI Functions</li>\n",
    "    <li>Generate structured credit decision reports using generative AI</li>\n",
    "    <li>Log all AI functions and outputs in Unity Catalog for compliance</li>\n",
    "    <li>Apply these AI functions in batch to analyze all potentially fraudulent transactions</li>\n",
    "  </ol>\n",
    "</div>\n",
    "\n",
    "<!-- Collect usage data (view). Remove it to disable collection or disable tracker during installation. View README for more details.  -->\n",
    "<img width=\"1px\" src=\"https://ppxrzfxige.execute-api.us-west-2.amazonaws.com/v1/analytics?category=lakehouse&org_id=1444828305810485&notebook=%2F05-Generative-AI%2F05.1-AI-Functions-Creation&demo_name=lakehouse-fsi-credit&event=VIEW&path=%2F_dbdemos%2Flakehouse%2Flakehouse-fsi-credit%2F05-Generative-AI%2F05.1-AI-Functions-Creation&version=1&user_hash=7804490f0d3be4559d29a7b52959f461489c4ee5e35d4afc7b55f311360ac589\">"
   ]
  },
  {
   "cell_type": "markdown",
   "metadata": {
    "application/vnd.databricks.v1+cell": {
     "cellMetadata": {
      "byteLimit": 2048000,
      "rowLimit": 10000
     },
     "inputWidgets": {},
     "nuid": "74a4723b-c8f8-41ab-99d7-fc1079a24e44",
     "showTitle": false,
     "tableResultSettingsMap": {},
     "title": ""
    }
   },
   "source": [
    "\n",
    "## The Demo: Automate Credit Decision Reports with Databricks GenAI\n",
    "\n",
    "\n",
    "In this demo, we showcase a practical use case for Databricks to improve credit decision system in modern banking. We will create an AI agent using the following functions, defined in the subsequent cells:\n",
    "\n",
    "1. **Customer Credit Information Retriever**: This function allows our GenAI agent to fetch detailed customer credit information for any given customer id, pulling structured and unstructured data from our Databricks Intelligence Platform.\n",
    "\n",
    "2. **Credit Decision Report Generator**: Using generative AI models, this function creates clear, structured credit decision reports , highlighting risk factors, behavioral anomalies, and relevant customer context for further review.\n",
    "\n",
    "Finally, we will demonstrate how these functions can be applied in batch to analyze all the credit decisions for a customer. By automating credit decision report generation and enabling real-time access to enriched data, banks can improve operational efficiency, accelerate decision making power, and enhance compliance.\n",
    "\n",
    "By leveraging Generative AI, banks can move beyond manual processes to **streamline workflows, reduce costs, and significantly strengthen Credit Risk Analysis capabilities**."
   ]
  },
  {
   "cell_type": "code",
   "execution_count": 0,
   "metadata": {
    "application/vnd.databricks.v1+cell": {
     "cellMetadata": {
      "byteLimit": 2048000,
      "rowLimit": 10000
     },
     "inputWidgets": {},
     "nuid": "4d41f6ca-f8ab-4c93-a548-a4ff7832be16",
     "showTitle": false,
     "tableResultSettingsMap": {},
     "title": ""
    },
    "jupyter": {
     "outputs_hidden": true
    }
   },
   "outputs": [],
   "source": [
    "%run ../_resources/00-setup $reset_all_data=false"
   ]
  },
  {
   "cell_type": "markdown",
   "metadata": {
    "application/vnd.databricks.v1+cell": {
     "cellMetadata": {
      "byteLimit": 2048000,
      "rowLimit": 10000
     },
     "inputWidgets": {},
     "isMarkdownSandbox": true,
     "nuid": "8c8e7077-71d3-4604-9060-9f5c5441cec0",
     "showTitle": false,
     "tableResultSettingsMap": {},
     "title": ""
    }
   },
   "source": [
    "## 📊 Function 1: Get Customer Details\n",
    "\n",
    "<div style=\"display: flex; align-items: center; gap: 15px;\"> <img src=\"https://raw.githubusercontent.com/databricks-demos/dbdemos-resources/refs/heads/main/images/liza.png\" style=\"width: 100px; border-radius: 10px;\" /> <div> Liza's first step in automating credit risk analysis is to retrieve all relevant information for a given customer.<br> This function, <code>get_customer_details</code>, takes in a customer ID and returns the necessary data to generate a comprehensive credit decision report.<br> The retrieved data includes customer profile information, financials and transaction history for accurate and efficient credit risk detection and analysis. </div> </div>\n",
    "\n",
    "### 🛠️ Next Step\n",
    "In the following section, we define the <code>get_customer_details</code> function, which retrieves structured data from the Databricks Lakehouse to enable automated credit risk detection and report generation."
   ]
  },
  {
   "cell_type": "code",
   "execution_count": 0,
   "metadata": {
    "application/vnd.databricks.v1+cell": {
     "cellMetadata": {
      "byteLimit": 2048000,
      "implicitDf": true,
      "rowLimit": 10000
     },
     "inputWidgets": {},
     "nuid": "ae3f7239-1484-4d44-9967-d74c336279af",
     "showTitle": false,
     "tableResultSettingsMap": {},
     "title": ""
    }
   },
   "outputs": [],
   "source": [
    "%sql\n",
    "DROP FUNCTION IF EXISTS get_customer_details;\n",
    "\n",
    "CREATE OR REPLACE FUNCTION get_customer_details (\n",
    "  customer_id STRING COMMENT 'Customer ID of the customer to be searched'\n",
    ") \n",
    "RETURNS TABLE(\n",
    "  cust_id INT,\n",
    "  education INT,\n",
    "  marital_status INT,\n",
    "  age INT,\n",
    "  is_resident INT,\n",
    "  months_current_address INT,\n",
    "  months_employment INT,\n",
    "  number_payment_delays_last12mo BIGINT,\n",
    "  pct_increase_annual_number_of_delays_last_3_year BIGINT,\n",
    "  overdraft_balance_amount DOUBLE,\n",
    "  tot_rel_bal DOUBLE,\n",
    "  tot_assets DOUBLE,\n",
    "  income_annual INT,\n",
    "  avg_balance DOUBLE,\n",
    "  num_accs BIGINT,\n",
    "  tot_txn_amt_12m DOUBLE,\n",
    "  sent_txn_cnt_12m BIGINT,\n",
    "  prediction DOUBLE\n",
    "\n",
    ")\n",
    "COMMENT \"This function returns the demographic and financial information about customers for a specific customer ID\" \n",
    "RETURN (\n",
    "  SELECT\n",
    "    cust_id,\n",
    "    education,\n",
    "    marital_status,\n",
    "    age,\n",
    "    is_resident,\n",
    "    months_current_address,\n",
    "    months_employment,\n",
    "    number_payment_delays_last12mo,\n",
    "    pct_increase_annual_number_of_delays_last_3_year,\n",
    "    overdraft_balance_amount,\n",
    "    tot_rel_bal,\n",
    "    tot_assets,\n",
    "    income_annual,\n",
    "    avg_balance,\n",
    "    num_accs,\n",
    "    tot_txn_amt_12m,\n",
    "    sent_txn_cnt_12m,\n",
    "    prediction\n",
    "\n",
    "  FROM \n",
    "    underbanked_prediction\n",
    "  WHERE\n",
    "    cust_id = customer_id\n",
    ")"
   ]
  },
  {
   "cell_type": "code",
   "execution_count": 0,
   "metadata": {
    "application/vnd.databricks.v1+cell": {
     "cellMetadata": {
      "byteLimit": 2048000,
      "implicitDf": true,
      "rowLimit": 10000
     },
     "inputWidgets": {},
     "nuid": "fda0a823-995f-4c7b-b780-524610b9814d",
     "showTitle": false,
     "tableResultSettingsMap": {},
     "title": ""
    }
   },
   "outputs": [],
   "source": [
    "%sql\n",
    "SELECT * FROM get_customer_details(\n",
    "    '93407'\n",
    ") AS prediction"
   ]
  },
  {
   "cell_type": "markdown",
   "metadata": {
    "application/vnd.databricks.v1+cell": {
     "cellMetadata": {
      "byteLimit": 2048000,
      "rowLimit": 10000
     },
     "inputWidgets": {},
     "isMarkdownSandbox": true,
     "nuid": "f16a1cc0-2f53-42a1-8cf3-b2cdaa9d0aea",
     "showTitle": false,
     "tableResultSettingsMap": {},
     "title": ""
    }
   },
   "source": [
    "\n",
    "## 📝 Function 2: Generate Credit Decision Report\n",
    "<div style=\"display: flex; align-items: center; gap: 15px;\"> <img src=\"https://raw.githubusercontent.com/databricks-demos/dbdemos-resources/refs/heads/main/images/liza.png\" style=\"width: 100px; border-radius: 10px;\" /> <div> After gathering customer and their financial transaction details, Liza’s next step is to automate the creation of professional reports with Credit Decision & Explanation.<br> The <code>credit_report_generator</code> function leverages generative AI to analyze transaction risk and produce clear, actionable documentation for both internal teams and customers.<br> This function: <ul> <li>Predicts whether a customer's credit risk is low or high using advanced AI models.</li> <li>Automatically generates a formal internal  report for the bank, stating customer risk profile, key financials, Credit History, Risk Factors with Analyst Note, Credit Decision & Explanation and Recommendations.</li> <li>Prepares a customer notification email with clear guidance and recommendations, personalized for the customer’s language and location when needed.</li> <li>Ensures all communications follow professional standards, with proper formatting and attention to compliance requirements.</li> </ul> By automating these steps, banks can accelerate credit risk decisoning system, improve communication, and ensure consistent, audit-ready documentation with detailed, explainable decisions and relevant insights for credit risk. </div> </div>\n",
    "\n",
    "### 🛠️ Next Step\n",
    "In the following section, we define the <code>credit_risk_report_generator</code> function, which will chain off of the <code>get_customer_details</code> function, in order to build an internal _and_ external credit risk report."
   ]
  },
  {
   "cell_type": "code",
   "execution_count": 0,
   "metadata": {
    "application/vnd.databricks.v1+cell": {
     "cellMetadata": {
      "byteLimit": 2048000,
      "rowLimit": 10000
     },
     "inputWidgets": {},
     "nuid": "596eb87e-7a77-4f17-a479-f1d7b50ceaa0",
     "showTitle": false,
     "tableResultSettingsMap": {},
     "title": ""
    }
   },
   "outputs": [],
   "source": [
    "prompt = \"\"\"\n",
    "You are a Credit Risk Analyst Assistant for banks, helping to identify Customer Credit Risk and report the detailed, explainable decisions and recomendations.\n",
    "\n",
    "### Tools Available:\n",
    "1. **get_customer_details** – Retrieves customer details, financials transaction history, and risk indicators for a given **Customer ID**.\n",
    "\n",
    "### Your Tasks:\n",
    "1. Retrieve customer financial and behavior information.\n",
    "2. Analyze risk score, payment patterns, and financial health.\n",
    "3. If Prediction is 1 -> Customer Credit Risk score is high, If Prediction is 0 -> Customer Credit Risk score is low.\n",
    "4. Generate a concise decision report that explains the outcome and provides your recommendation. \n",
    "\n",
    "Respond professionally and insightfully, structuring the report for easy consumption.\n",
    "    - Ensure all details match the provided **Customer ID** before proceeding.\n",
    "\n",
    "- **If the customer id is not present:**  \n",
    "    - Briefly confirm that the customer is not present in the system .\n",
    "\n",
    "- Do not provide your reasoning step; just give the response.\n",
    "\"\"\""
   ]
  },
  {
   "cell_type": "code",
   "execution_count": 0,
   "metadata": {
    "application/vnd.databricks.v1+cell": {
     "cellMetadata": {
      "byteLimit": 2048000,
      "rowLimit": 10000
     },
     "inputWidgets": {},
     "nuid": "5433d9fd-7a2b-4718-b027-31f9224929fe",
     "showTitle": false,
     "tableResultSettingsMap": {},
     "title": ""
    }
   },
   "outputs": [],
   "source": [
    "spark.sql(\"DROP FUNCTION IF EXISTS credit_report_generator\")\n",
    "\n",
    "spark.sql(f\"\"\"\n",
    "  CREATE OR REPLACE FUNCTION credit_report_generator(\n",
    "    cust_id INT,\n",
    "    education INT,\n",
    "    marital_status INT,\n",
    "    age INT,\n",
    "    is_resident INT,\n",
    "    months_current_address INT,\n",
    "    months_employment INT,\n",
    "    number_payment_delays_last12mo BIGINT,\n",
    "    pct_increase_annual_number_of_delays_last_3_year BIGINT,\n",
    "    overdraft_balance_amount DOUBLE,\n",
    "    tot_rel_bal DOUBLE,\n",
    "    tot_assets DOUBLE,\n",
    "    income_annual INT,\n",
    "    avg_balance DOUBLE,\n",
    "    num_accs BIGINT,\n",
    "    tot_txn_amt_12m DOUBLE,\n",
    "    sent_txn_cnt_12m BIGINT,\n",
    "    prediction DOUBLE\n",
    "  )\n",
    "  RETURNS STRING\n",
    "  LANGUAGE SQL\n",
    "  COMMENT \"This function generates a credit risk report based on the customer details and customer financials information and credit score.\"\n",
    "  RETURN (\n",
    "    SELECT ai_query(\n",
    "      'databricks-meta-llama-3-1-405b-instruct', \n",
    "      CONCAT(\n",
    "        \"{prompt}\",\n",
    "        'Customer details: ', \n",
    "        TO_JSON(NAMED_STRUCT(\n",
    "              'cust_id', cust_id,\n",
    "              'education', education,\n",
    "              'marital_status', marital_status,\n",
    "              'age', age,\n",
    "              'is_resident', is_resident,\n",
    "              'months_current_address', months_current_address,\n",
    "              'months_employment', months_employment,\n",
    "              'number_payment_delays_last12mo', number_payment_delays_last12mo,\n",
    "              'pct_increase_annual_number_of_delays_last_3_year', pct_increase_annual_number_of_delays_last_3_year,\n",
    "              'overdraft_balance_amount', overdraft_balance_amount,\n",
    "              'tot_rel_bal', tot_rel_bal,\n",
    "              'tot_assets', tot_assets,\n",
    "              'income_annual', income_annual,\n",
    "              'avg_balance', avg_balance,\n",
    "              'num_accs', num_accs,\n",
    "              'tot_txn_amt_12m', tot_txn_amt_12m,\n",
    "              'sent_txn_cnt_12m', sent_txn_cnt_12m,\n",
    "              'prediction', prediction\n",
    "        ))\n",
    "      )\n",
    "    )\n",
    "  )\n",
    "\"\"\")"
   ]
  },
  {
   "cell_type": "markdown",
   "metadata": {
    "application/vnd.databricks.v1+cell": {
     "cellMetadata": {
      "byteLimit": 2048000,
      "rowLimit": 10000
     },
     "inputWidgets": {},
     "nuid": "c876f9e4-ef17-4791-aa51-b991f3464bf1",
     "showTitle": false,
     "tableResultSettingsMap": {},
     "title": ""
    }
   },
   "source": [
    "### Example:\n",
    "\n",
    "Let's generate a report for a Credit Risk Analysis ."
   ]
  },
  {
   "cell_type": "code",
   "execution_count": 0,
   "metadata": {
    "application/vnd.databricks.v1+cell": {
     "cellMetadata": {
      "byteLimit": 2048000,
      "implicitDf": true,
      "rowLimit": 10000
     },
     "inputWidgets": {},
     "nuid": "1da210dd-07aa-4c36-8d07-d84e9ddf5914",
     "showTitle": false,
     "tableResultSettingsMap": {},
     "title": ""
    }
   },
   "outputs": [],
   "source": [
    "%sql\n",
    "SELECT credit_report_generator(\n",
    "    93407,0,0,45,1,30,97,0,0,158211467.36,7853.23,866, 86628,969,1,0,1,0\n",
    "  ) as credit_report"
   ]
  },
  {
   "cell_type": "markdown",
   "metadata": {
    "application/vnd.databricks.v1+cell": {
     "cellMetadata": {
      "byteLimit": 2048000,
      "rowLimit": 10000
     },
     "inputWidgets": {},
     "isMarkdownSandbox": true,
     "nuid": "7bfadc72-2278-4562-9f4e-e37ca520e786",
     "showTitle": false,
     "tableResultSettingsMap": {},
     "title": ""
    }
   },
   "source": [
    "## 🚀 Operation 3: Apply Our Functions in Batch to Customers with High Credit Risk  \n",
    "\n",
    "<div style=\"display: flex; align-items: center; gap: 15px;\">\n",
    "  <img src=\"https://raw.githubusercontent.com/databricks-demos/dbdemos-resources/refs/heads/main/images/liza.png\" \n",
    "       style=\"width: 100px; border-radius: 10px;\" />\n",
    "  <div>\n",
    "    Now that Liza has implemented the <code>get_customer_details</code> and <code>credit_report_generator</code> functions, the next step is to scale these operations by applying them in batch to a dataset of high risk customers.  \n",
    "    This operation enables organizations to:\n",
    "    <ul>\n",
    "      <li>Process large volumes of historical or real-time transactions efficiently</li>\n",
    "      <li>Generate detailed reports for flagged customers based on predefined criteria (e.g., unusual amounts or behavioral anomalies)</li>\n",
    "      <li>Democratize access to enriched transaction data for auditors and credit risk analysts</li>\n",
    "      <li>Identify patterns across multiple transactions for high  credit risk and risk analysis</li>\n",
    "    </ul>\n",
    "    By leveraging Databricks' scalable compute capabilities, this batch processing operation ensures that even large datasets can be analyzed quickly and effectively.\n",
    "  </div>\n",
    "</div>\n",
    "\n",
    "### 🛠️ Next Step  \n",
    "In the following section, we demonstrate how to apply the <code>get_customer_details</code> and <code>credit_report_generator</code> functions in batch mode to process suspicious transactions. This includes:\n",
    "1. Loading a dataset of flagged customers from Unity Catalog.\n",
    "2. Iteratively applying the functions to generate reports for each customer.\n",
    "3. Storing the enriched reports back into Unity Catalog for downstream analysis.\n",
    "\n",
    "<small>💡 Batch processing unlocks insights from historical financials transaction data, enabling proactive credit risk detection and improved operational efficiency through effective reporting system.</small>\n"
   ]
  },
  {
   "cell_type": "code",
   "execution_count": 0,
   "metadata": {
    "application/vnd.databricks.v1+cell": {
     "cellMetadata": {
      "byteLimit": 2048000,
      "implicitDf": true,
      "rowLimit": 10000
     },
     "inputWidgets": {},
     "nuid": "37a73fec-149a-4849-aa4e-12d2b2e4d71d",
     "showTitle": false,
     "tableResultSettingsMap": {},
     "title": ""
    }
   },
   "outputs": [],
   "source": [
    "%sql\n",
    "CREATE OR REPLACE TABLE credit_report_generator_table AS\n",
    "SELECT \n",
    "  cust_id AS cust_id,\n",
    "  prediction,\n",
    "  credit_report_generator(\n",
    "    cust_id,\n",
    "    education,\n",
    "    marital_status,\n",
    "    age,\n",
    "    is_resident,\n",
    "    months_current_address,\n",
    "    months_employment,\n",
    "    number_payment_delays_last12mo,\n",
    "    pct_increase_annual_number_of_delays_last_3_year,\n",
    "    overdraft_balance_amount,\n",
    "    tot_rel_bal,\n",
    "    tot_assets,\n",
    "    income_annual,\n",
    "    avg_balance,\n",
    "    num_accs,\n",
    "    tot_txn_amt_12m,\n",
    "    sent_txn_cnt_12m,\n",
    "    prediction\n",
    "  ) AS credit_report\n",
    "FROM (\n",
    "  SELECT *\n",
    "  FROM underbanked_prediction\n",
    "  WHERE prediction = 1\n",
    "  LIMIT 5\n",
    ");"
   ]
  },
  {
   "cell_type": "markdown",
   "metadata": {
    "application/vnd.databricks.v1+cell": {
     "cellMetadata": {
      "byteLimit": 2048000,
      "rowLimit": 10000
     },
     "inputWidgets": {},
     "nuid": "1bb6247a-1053-4305-9606-397e0cb70794",
     "showTitle": false,
     "tableResultSettingsMap": {},
     "title": ""
    }
   },
   "source": [
    "## Next Steps\n",
    "\n",
    "Proceed to notebook **05.2-Agent-Creation-Guide** in order to package the above functions into an implementable AI Agent with Databricks!"
   ]
  }
 ],
 "metadata": {
  "application/vnd.databricks.v1+notebook": {
   "computePreferences": null,
   "dashboards": [],
   "environmentMetadata": {
    "base_environment": "",
    "environment_version": "2"
   },
   "inputWidgetPreferences": null,
   "language": "python",
   "notebookMetadata": {
    "mostRecentlyExecutedCommandWithImplicitDF": {
     "commandId": 4640557381823368,
     "dataframes": [
      "_sqldf"
     ]
    },
    "pythonIndentUnit": 2
   },
   "notebookName": "05.1-AI-Functions-Creation",
   "widgets": {}
  },
  "language_info": {
   "name": "python"
  }
 },
 "nbformat": 4,
 "nbformat_minor": 0
}
