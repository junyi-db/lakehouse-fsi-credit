{
 "cells": [
  {
   "cell_type": "markdown",
   "metadata": {
    "application/vnd.databricks.v1+cell": {
     "cellMetadata": {},
     "inputWidgets": {},
     "isMarkdownSandbox": true,
     "nuid": "c8737a2c-82cb-4c55-a960-b17e4d3ee9a7",
     "showTitle": false,
     "tableResultSettingsMap": {},
     "title": ""
    }
   },
   "source": [
    "# Data Intelligence Platform for Financial Services - Serving the Underbanked population with the Databricks Lakehouse\n",
    "<br />\n",
    "<img src=\"https://raw.githubusercontent.com/borisbanushev/CAPM_Databricks/main/lakehouseDAIWTusecases.jpg\" style=\"float: left; margin-right: 30px\" width=\"650px\" />\n",
    "\n",
    "## What is The Databricks Data Intelligence Platform for Financial Services?\n",
    "\n",
    "It's the only enterprise data platform that allows you to leverage all your data, from any source, on any workload to always offer more engaging customer experiences driven by real-time data, at the lowest cost. The Data Intelligence Platform is built on the following three pillars:\n",
    "\n",
    "### 1. Simple\n",
    "  One single platform and governance/security layer for your data warehousing and AI to **accelerate innovation** and **reduce risks**. No need to stitch together multiple solutions with disparate governance and high complexity.\n",
    "\n",
    "### 2. Open\n",
    "  Built on open source and open standards. You own your data and prevent vendor lock-in, with easy integration with external solution. Being open also lets you share your data with any external organization, regardless of their data stack/vendor.\n",
    "\n",
    "### 3. Multicloud\n",
    "  Multicloud is one of the key strategic considerations for FS companies, 88% of single-cloud FS customers are adopting a multi-cloud architecture (<a href=\"https://www.fstech.co.uk/fst/88_Of_FIs_Considering_Multicloud.php\">reference</a>). Multicloud architecture, however can be expensive and difficult to build. The Lakehouse provides one consistent data platform across clouds and gives companies the ability to process your data where your need.\n",
    " \n",
    "<!-- Collect usage data (view). Remove it to disable collection. View README for more details.  -->\n",
    "<img width=\"1px\" src=\"https://ppxrzfxige.execute-api.us-west-2.amazonaws.com/v1/analytics?category=lakehouse&org_id=1444828305810485&notebook=%2F00-Credit-Decisioning&demo_name=lakehouse-fsi-credit&event=VIEW&path=%2F_dbdemos%2Flakehouse%2Flakehouse-fsi-credit%2F00-Credit-Decisioning&version=1&user_hash=7804490f0d3be4559d29a7b52959f461489c4ee5e35d4afc7b55f311360ac589\">"
   ]
  },
  {
   "cell_type": "markdown",
   "metadata": {
    "application/vnd.databricks.v1+cell": {
     "cellMetadata": {},
     "inputWidgets": {},
     "nuid": "80aedefb-bda3-4dee-8c52-e6bfd4c1c438",
     "showTitle": false,
     "tableResultSettingsMap": {},
     "title": ""
    }
   },
   "source": [
    "\n",
    "# Raising Interest Rates - an opportunity or a threat?\n",
    "\n",
    "The current raising interest rates can be both a great opportunity for retail banks and other FS organizations to increase their revenues from their credit instruments (such as loans, mortgages, and credit cards) but also a risk for larger losses as customers might end up unable to repay credits with higher rates. In the current market conditions, FS companies need better credit scoring and decisioning models and approaches. Such models, however, are very difficult to achieve as financial information might be insufficient or siloed. <br />\n",
    "#### <p><strong>In its essence, good credit decisioning is a massive data curation exercise.</strong></p>"
   ]
  },
  {
   "cell_type": "markdown",
   "metadata": {
    "application/vnd.databricks.v1+cell": {
     "cellMetadata": {},
     "inputWidgets": {},
     "isMarkdownSandbox": true,
     "nuid": "4a43da5b-e7f3-4fed-b6d1-872db7b1cf6a",
     "showTitle": false,
     "tableResultSettingsMap": {},
     "title": ""
    }
   },
   "source": [
    "## DEMO: upsell your underbanked customers and reduce your risk through better credit scoring models\n",
    "\n",
    "In this demo, we'll step in the shoes of a retail bank trying to utilize the current interest rates hike and enhance it's bottom line performance (both increasing revenue and decreasing costs).\n",
    "\n",
    "The business has determined that the bank's focus is at improving the credit evaluation of current and potential credit customers. We're asked to:\n",
    "\n",
    "* Identify customers who do not currently have a credit instrument but would have a good credit score (upselling the underbanked clients to increase revenue),\n",
    "* Evaluate the possibility of default of the bank's current credit holders (reducing risk thereby reducing loss).\n",
    "\n",
    "\n",
    "### What we will build\n",
    "\n",
    "To do so, we'll build an end-to-end solution with the Lakehouse. To be able to properly analyze and predict creditworthiness, we need information coming from different external and internal systems: credit bureau data, internal banking data (such as accounts, KYC, collections, applications, and relationship), real-time fund and credit card transactions, as well as partner data (in this case, telecom data) to enhance our internal information.\n",
    "\n",
    "At a high level, we will implement the following flow:\n",
    "\n",
    "\n",
    "<style>\n",
    ".right_box{\n",
    "  margin: 30px; box-shadow: 10px -10px #CCC; width:650px; height:300px; background-color: #1b3139ff; box-shadow:  0 0 10px  rgba(0,0,0,0.6);\n",
    "  border-radius:25px;font-size: 35px; float: left; padding: 20px; color: #f9f7f4; }\n",
    ".badge {\n",
    "  clear: left; float: left; height: 30px; width: 30px;  display: table-cell; vertical-align: middle; border-radius: 50%; background: #fcba33ff; text-align: center; color: white; margin-right: 10px; margin-left: -35px;}\n",
    ".badge_b { \n",
    "  margin-left: 25px; min-height: 32px;}\n",
    "</style>\n",
    "\n",
    "\n",
    "<div style=\"margin-left: 20px\">\n",
    "  <div class=\"badge_b\"><div class=\"badge\">1</div> Ingest all the various sources of data and create our credit decisioning database (<strong>unification of data</strong>) </div>\n",
    "  <div class=\"badge_b\"><div class=\"badge\">2</div>  Secure data and grant read access to the Data Analyst and Data Science teams, including row- and column-level filtering, PII data masking, and others (<strong>data security and control</strong>)</div>\n",
    "  <div class=\"badge_b\"><div class=\"badge\">3</div> Use the Databricks unified <strong>data lineage</strong> to understand how your data flows and is used in your organisation</div>\n",
    "  <div class=\"badge_b\"><div class=\"badge\">4</div> Run BI  queries and EDA to analyze existing credit risk</div>\n",
    "  <div class=\"badge_b\"><div class=\"badge\">5</div>  Build ML model to <strong>predict credit worthiness</strong> of underbanked customers, evaluate the risk of current debt-holders, and deploy ML models for real-time serving in order to enable Buy Now, Pay Later use cases</div>\n",
    "  <div class=\"badge_b\"><div class=\"badge\">6</div> <strong>Visualise your business</strong> models along with all actionable insights coming from machine learning</div>\n",
    "  <div class=\"badge_b\"><div class=\"badge\">7</div>Provide an easy and simple way to securely share these insights to non-data users, such as bank tellers, call center agents, or credit agents (<strong>data democratization</strong>)</div>\n",
    "</div>\n",
    "<br/><br/>\n",
    "<img width=\"1250px\" src=\"https://raw.githubusercontent.com/databricks-demos/dbdemos-resources/main/images/fsi/credit_decisioning/fsi_credit_decisioning_flow.png\" />"
   ]
  },
  {
   "cell_type": "markdown",
   "metadata": {
    "application/vnd.databricks.v1+cell": {
     "cellMetadata": {},
     "inputWidgets": {},
     "nuid": "09a8afc3-e914-497f-8fba-2d0aca3dc6f8",
     "showTitle": false,
     "tableResultSettingsMap": {},
     "title": ""
    }
   },
   "source": [
    "\n",
    "# Setting the Foundations in Financial Services\n",
    "\n",
    "Governance is top of mind for every financial services institution today. This focus is largely due to multi-cloud trends, proliferation of sensitive data from digital data sources, and the explosion of data products and data sharing needs. Our governance solution provides 3 key capabilities that we will focus on:\n",
    "\n",
    "<p></p>\n",
    "\n",
    "1. **Data Security**: Databricks has [Enhanced Security and Compliance](https://www.databricks.com/trust/protect-your-data-with-enhanced-security-and-compliance) to help any FSI monitor and keep their platform secure. Databricks also has built-in encryption functions, customer-managed keys, and Private Link across clouds to provide advanced security expected by FSIs.\n",
    "2. **Lineage and Discoverability**: When handling sensitive data, understanding lineage for audit and compliance is critical. Discoverability means any downstream consumer has insight into trusted data.\n",
    "3. **Sharing data with non-data users**: Data Sharing has arisen from needs to access data without copying vast amounts of data. As the Financial Services industry moves toward multi-cloud and develops products in open banking, consumer lending and fraud, sharing data with open standards provides the right foundation to avoid cloud lock-in and help FSIs democratize data."
   ]
  },
  {
   "cell_type": "markdown",
   "metadata": {
    "application/vnd.databricks.v1+cell": {
     "cellMetadata": {},
     "inputWidgets": {},
     "nuid": "b8b18aea-8342-4e87-bdf4-9b7ccf4b3dba",
     "showTitle": false,
     "tableResultSettingsMap": {},
     "title": ""
    }
   },
   "source": [
    "## 1: Ingesting data & building our FS Lakehouse Database\n",
    "\n",
    "First, we need to ingest and transform customer, credit, and payments data sources with the [Delta Live Table SQL Pipeline notebook]($./01-Data-Ingestion/01-DLT-Internal-Banking-Data-SQL). This will create a <a href=\"/\" dbdemos-pipeline-id=\"dlt-fsi-credit-decisioning\" target=\"_blank\">DLT Pipeline</a> running in batch or streaming, and saving our data within Unity Catalog as Delta tables."
   ]
  },
  {
   "cell_type": "markdown",
   "metadata": {
    "application/vnd.databricks.v1+cell": {
     "cellMetadata": {},
     "inputWidgets": {},
     "nuid": "b3e68231-2e5b-401d-ba64-6872cf6ca3ff",
     "showTitle": false,
     "tableResultSettingsMap": {},
     "title": ""
    }
   },
   "source": [
    "## 2: Governance\n",
    "\n",
    "Now that our data has been ingested, we can explore the catalogs and schemas created using the [Data Explorer](/explore/data/dbdemos/fsi_credit_decisioning). \n",
    "\n",
    "To leverage our data assets across the entire organization, we need:\n",
    "\n",
    "* Fine grained ACLs for our Analysts & Data Scientists teams\n",
    "* Lineage between all our data assets\n",
    "* real-time PII data encryption \n",
    "* Audit logs\n",
    "* Data Sharing with external organization \n",
    "\n",
    "Discover how to do that with the [02-Data-Governance-credit-decisioning]($./02-Data-Governance/02-Data-Governance-credit-decisioning) notebook."
   ]
  },
  {
   "cell_type": "markdown",
   "metadata": {
    "application/vnd.databricks.v1+cell": {
     "cellMetadata": {},
     "inputWidgets": {},
     "isMarkdownSandbox": true,
     "nuid": "233c38f0-5162-43e5-8615-712f3e006e8c",
     "showTitle": false,
     "tableResultSettingsMap": {},
     "title": ""
    }
   },
   "source": [
    "\n",
    "## 3: ML - Building a credit scoring model to predict payment defaults, reduce loss, and upsell\n",
    "\n",
    "Now that our data is ready and secured, let's create a model to predict the risk and potential default of current creditholders and potential new customers.\n",
    "\n",
    "<img src=\"https://raw.githubusercontent.com/databricks-demos/dbdemos-resources/main/images/fsi/credit_decisioning/fsi-credit-decisioning-ml-usecase.png\" width=\"800px\" style=\"float: right\">\n",
    "\n",
    "To do that, we'll leverage the data previously ingested, analyze, and save the features set within Databricks feature store.\n",
    "\n",
    "Databricks AutoML will then accelerate our ML journey by creating state of the art Notebooks that we'll use to deploy our model in production within MLFlow Model registry.\n",
    "\n",
    "\n",
    "Once our is model ready, we'll leverage it to:\n",
    "\n",
    "<div style=\"padding-left: 20px;\">\n",
    "\n",
    "  <h4> Score, analyze, and target our existing customer database </h4>\n",
    "\n",
    "  Once our model is created and deployed in production within Databricks Model registry, we can use it to run batch inference.\n",
    "\n",
    "  The model outcome will be available for our Analysts to implement new use cases, such as upsell or risk exposure analysis (see below for more details).\n",
    "\n",
    "  <h4>   Deploy our model for Real time model serving, allowing Buy Now, Pay Later (BNPL)</h4>\n",
    "\n",
    "  Leveraging Databricks Lakehouse, we can deploy our model to provide real-time serving over REST API. <br>\n",
    "  This will allow us to give instant results on credit requests, allowing customers to automatically open a new credit while reducing payment default risks. \n",
    "\n",
    "\n",
    "  <h4> Ensure model Explainability and Fairness</h4>\n",
    "\n",
    "  An important part of every regulated industry use case is the ability to explain the decisions taken through data and AI; and to also be able to evaluate the fairness of the model and identify whether it disadvantages certain people or groups of people.\n",
    "\n",
    "  The demo shows how to add explainability and fairness to the final dashboard:\n",
    "\n",
    "  1. Feature importance and SHAP ratios charts are added to provide an overall understanding as to what are the drivers and root causes behind credit worthiness and defaults, so the bank can take appropriate measures,\n",
    "  2. Detailed fairness like gender fairness score and a breakdown of different demographic features, such as education, marital status, and residency.\n",
    "  \n",
    "</div>"
   ]
  },
  {
   "cell_type": "markdown",
   "metadata": {
    "application/vnd.databricks.v1+cell": {
     "cellMetadata": {},
     "inputWidgets": {},
     "nuid": "52524afc-2feb-4a67-aaba-982552d59a7d",
     "showTitle": false,
     "tableResultSettingsMap": {},
     "title": ""
    }
   },
   "source": [
    "\n",
    "#### Machine Learning next steps:\n",
    "\n",
    "* [03.1-Feature-Engineering-credit-decisioning]($./03-Data-Science-ML/03.1-Feature-Engineering-credit-decisioning): Open the first notebook to analyze our data and start building our model leveraging Databricks Feature Store and AutoML.\n",
    "* [03.2-AutoML-credit-decisioning]($./03-Data-Science-ML/03.2-AutoML-credit-decisioning): Leverage AutoML to accelerate your model creation.\n",
    "* [03.3-Batch-Scoring-credit-decisioning]($./03-Data-Science-ML/03.3-Batch-Scoring-credit-decisioning): score our entire dataset and save the result as a new delta table for downstream usage.\n",
    "* [03.4-model-serving-BNPL-credit-decisioning]($./03-Data-Science-ML/03.4-model-serving-BNPL-credit-decisioning): leverage Databricks Serverless model serving to deploy a Buy Now Pay Later offers (including AB testing).\n",
    "* [03.5-Explainability-and-Fairness-credit-decisioning]($./03-Data-Science-ML/03.5-Explainability-and-Fairness-credit-decisioning): Explain your model and review fairness."
   ]
  },
  {
   "cell_type": "markdown",
   "metadata": {
    "application/vnd.databricks.v1+cell": {
     "cellMetadata": {},
     "inputWidgets": {},
     "isMarkdownSandbox": true,
     "nuid": "b6ea99bc-5c00-4bd7-9dee-960c907f6628",
     "showTitle": false,
     "tableResultSettingsMap": {},
     "title": ""
    }
   },
   "source": [
    "\n",
    "### 4: Building SQL Dashboard Leveraging our model to deliver real business value\n",
    "\n",
    "<img src=\"https://raw.githubusercontent.com/databricks-demos/dbdemos-resources/main/images/fsi/credit_decisioning/fsi-credit-decisioning-dashboard.png\" width=\"800px\" style=\"float: right\">\n",
    "\n",
    "#### Target customers without credit and suggest new offers to the less exposed\n",
    "\n",
    "\n",
    "Using the model we built, we can score current and new customers to offer credit instruments (such as credit cards, loans, and mortgages). \n",
    "\n",
    "We'll use our model outcome to only upsell customer filter our customers and build a dashboard including all this information:\n",
    "1. Evaluates the credit worthiness of individuals without financial history,\n",
    "2. Estimates the ROI and revenue from upselling current customers who do not have credit instruments,\n",
    "3. Provides explainability on an individual level, making it easier to create targeted offers to each customer.\n",
    "\n",
    "Such dashboards can be very easily built in the Databricks Lakehouse and used by marketing teams and credit departments to contact upsell prospects (including a detailed reason for creditworthiness).\n",
    "\n",
    "\n",
    "#### Score our existing credit database to analyze our customers\n",
    "\n",
    "1. Predicts the current credit owners likely to default on their credit card or loan and the \"Loss given default\",\n",
    "2. Gives an overview of the current risk profile, the number of defaulted customers, and the overall loss,\n",
    "3. A breakdown of loss per different credit instruments, such as credit cards, loans, and mortgages."
   ]
  },
  {
   "cell_type": "markdown",
   "metadata": {
    "application/vnd.databricks.v1+cell": {
     "cellMetadata": {},
     "inputWidgets": {},
     "nuid": "3e59cc3b-2012-4f36-a5af-b52630dd61de",
     "showTitle": false,
     "tableResultSettingsMap": {},
     "title": ""
    }
   },
   "source": [
    "\n",
    "Open the [04-BI-Data-Warehousing-credit-decisioning]($./04-BI-Data-Warehousing/04-BI-Data-Warehousing-credit-decisioning) notebook to know more about Databricks SQL Warehouse.\n",
    "\n",
    "Directly open the final <a dbdemos-dashboard-id=\"credit-decisioning\" href='/sql/dashboardsv3/01f0978ebbc5142c80fbf90718509500' target=\"_blank\">dashboard</a> depicting the business outcomes of building the credit decisioning on the Databricks Lakehouse, including:\n",
    "- Upselling and serving the underbanked customers,\n",
    "- Reducing risk and predicting default and potential losses,\n",
    "- Turning the data into actionable and explainable insights."
   ]
  },
  {
   "cell_type": "markdown",
   "metadata": {
    "application/vnd.databricks.v1+cell": {
     "cellMetadata": {},
     "inputWidgets": {},
     "nuid": "36983e73-d961-44ba-9af1-2283666d0f8d",
     "showTitle": false,
     "tableResultSettingsMap": {},
     "title": ""
    }
   },
   "source": [
    "\n",
    "## 5: Workflow orchestration\n",
    "\n",
    "Now that all our lakehouse pipeline is working, let's review how we can leverage Databricks Workflows to orchestrate our tasks and link them together: [05-Workflow-Orchestration-credit-decisioning]($./05-Workflow-Orchestration/05-Workflow-Orchestration-credit-decisioning)."
   ]
  }
 ],
 "metadata": {
  "application/vnd.databricks.v1+notebook": {
   "computePreferences": null,
   "dashboards": [],
   "environmentMetadata": {
    "environment_version": "2"
   },
   "inputWidgetPreferences": null,
   "language": "python",
   "notebookMetadata": {
    "pythonIndentUnit": 4
   },
   "notebookName": "00-Credit-Decisioning",
   "widgets": {}
  },
  "language_info": {
   "name": "python"
  }
 },
 "nbformat": 4,
 "nbformat_minor": 0
}
